{
 "cells": [
  {
   "cell_type": "code",
   "execution_count": 40,
   "metadata": {},
   "outputs": [
    {
     "name": "stdout",
     "output_type": "stream",
     "text": [
      "number of years:    15\n",
      "total loan amount:    500000.00\n",
      "total interest payed: 283769.60\n",
      "Percent of loan payed in intereset: 56.75%\n",
      "number of years to pay loan if there was no interest: 9.569744296432399\n"
     ]
    }
   ],
   "source": [
    "# TODO: given loan amount, interest rate, and payment amount, enter them below and the amount payed in interst will be calculated\n",
    "loan_amount = 500000\n",
    "interest_rate = .06495\n",
    "payment = 4354\n",
    "\n",
    "\n",
    "\n",
    "payment_number = 1\n",
    "total_interest_payed = 0\n",
    "principal = loan_amount\n",
    "\n",
    "while principal > 0:\n",
    "    interest_payed = principal * (interest_rate/12)\n",
    "    total_interest_payed += interest_payed\n",
    "    principal_payed = payment - interest_payed\n",
    "    # the commented out section below prints the balance and interest payed after every month\n",
    "    # if (payment_number % 12 == 0):  \n",
    "        # print(\"Payment %d: balance: $%.2f, $%.2f in interest payed, $%.2f in principal payed\" % (payment_number, principal, interest_payed, principal_payed))\n",
    "    principal -= principal_payed\n",
    "    payment_number += 1\n",
    "\n",
    "print(\"number of years:    %d\" % (payment_number/12))\n",
    "print(\"total loan amount:    %8.2f\" % loan_amount)\n",
    "print(\"total interest payed: %8.2f\" % total_interest_payed)\n",
    "print(\"Percent of loan payed in intereset: %.2f%%\" % (total_interest_payed / loan_amount * 100))\n",
    "print(\"number of years to pay loan if there was no interest:\", (loan_amount / payment / 12))\n",
    "\n"
   ]
  },
  {
   "attachments": {},
   "cell_type": "markdown",
   "metadata": {},
   "source": [
    "## Some examples:\n",
    "\n",
    "\n",
    "### brand new  BMW 2301 Coupe with a 60 month term\n",
    "Costs:                  $38,200\n",
    "Down Payment:           $2,500\n",
    "Interest Rate:          5.99% \n",
    "Monthly Payment:        $690.02\n",
    "\n",
    "Total Interest Payed:   $5,700.85\n",
    "Percent of loan:        15.97%\n",
    "\n",
    "### brand new  BMW 2301 Coupe with a 30 month term\n",
    "Costs:                  $38,200\n",
    "Down Payment:           $2,500\n",
    "Interest Rate:          5.99% \n",
    "Monthly Payment:        $1,284.29\n",
    "\n",
    "Total Interest Payed:   $2,828.58\n",
    "Percent of loan:        7.92%\n",
    "\n",
    "\n",
    "### $500k loan on a 30 year mortgage\n",
    "Costs:                  $500,000\n",
    "Down Payment:           $0\n",
    "Interest Rate:          7.489% \n",
    "Monthly Payment:        $3492\n",
    "\n",
    "Total Interest Payed:   $757,535.57\n",
    "Percent of loan:        151.51%\n",
    "\n",
    "### $500k loan on a 15 year mortgage\n",
    "Costs:                  $500,000\n",
    "Down Payment:           $0\n",
    "Interest Rate:          6.495% \n",
    "Monthly Payment:        $4354\n",
    "\n",
    "Total Interest Payed:   $283,769.60\n",
    "Percent of loan:        56.75%\n"
   ]
  },
  {
   "attachments": {},
   "cell_type": "markdown",
   "metadata": {},
   "source": [
    "# Takeaways\n",
    "\n",
    "- Every marginal decrease in interest rate or number of installments significantly decreases the total amount of interest paid over the course of the loan.\n",
    "- Essentailly, the only way for a property to 'pay for itself' would be for it to increase in value the same amount as the interst paid on the loan by the time it is paid off.\n"
   ]
  },
  {
   "attachments": {},
   "cell_type": "markdown",
   "metadata": {},
   "source": []
  }
 ],
 "metadata": {
  "kernelspec": {
   "display_name": "Python 3",
   "language": "python",
   "name": "python3"
  },
  "language_info": {
   "codemirror_mode": {
    "name": "ipython",
    "version": 3
   },
   "file_extension": ".py",
   "mimetype": "text/x-python",
   "name": "python",
   "nbconvert_exporter": "python",
   "pygments_lexer": "ipython3",
   "version": "3.9.7"
  },
  "orig_nbformat": 4
 },
 "nbformat": 4,
 "nbformat_minor": 2
}
